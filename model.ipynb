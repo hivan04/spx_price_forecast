{
 "cells": [
  {
   "cell_type": "code",
   "execution_count": 74,
   "metadata": {},
   "outputs": [
    {
     "name": "stderr",
     "output_type": "stream",
     "text": [
      "[*********************100%***********************]  6 of 6 completed\n"
     ]
    }
   ],
   "source": [
    "import pandas as pd\n",
    "import yfinance as yf\n",
    "from statsmodels.tsa.arima.model import ARIMA\n",
    "\n",
    "# Define the tickers, start date, and end date\n",
    "tickers = [\"^GSPC\", \"AAPL\", \"NVDA\", \"MSFT\", \"NFLX\", \"RDDT\"]\n",
    "start_date = \"2020-01-01\"\n",
    "end_date = \"2025-01-01\"\n",
    "\n",
    "# Download the data\n",
    "data = yf.download(tickers, start=start_date, end=end_date)\n",
    "\n",
    "# Save the data to a CSV file\n",
    "data.to_csv(\"/Users/ivan/Documents/Data Science Projects/Portfolio_Forecast/stocks.csv\")\n",
    "\n",
    "# Read the data from the CSV file\n",
    "stocks = pd.read_csv(\"/Users/ivan/Documents/Data Science Projects/Portfolio_Forecast/stocks.csv\")"
   ]
  },
  {
   "cell_type": "code",
   "execution_count": 76,
   "metadata": {},
   "outputs": [
    {
     "name": "stdout",
     "output_type": "stream",
     "text": [
      "        Price              Close  ... Volume.4    Volume.5\n",
      "0      Ticker               AAPL  ...     RDDT       ^GSPC\n",
      "1        Date                NaN  ...      NaN         NaN\n",
      "2  2020-01-02  72.71609497070312  ...      NaN  3459930000\n",
      "3  2020-01-03  72.00910949707031  ...      NaN  3484700000\n",
      "4  2020-01-06  72.58291625976562  ...      NaN  3702460000\n",
      "\n",
      "[5 rows x 31 columns]\n"
     ]
    }
   ],
   "source": [
    "print(stocks.head())"
   ]
  },
  {
   "cell_type": "code",
   "execution_count": 77,
   "metadata": {},
   "outputs": [
    {
     "name": "stdout",
     "output_type": "stream",
     "text": [
      "         Date          SPX       AAPL        MSFT        NFLX      NVDA  RDDT\n",
      "0  02/01/2020  3244.670000  71.721042  151.566834  326.100006  5.943832   NaN\n",
      "1  03/01/2020  3226.360107  71.940000  151.127749  326.779999  5.852962   NaN\n",
      "2  06/01/2020  3217.550049  71.127873  149.944070  323.119995  5.783753   NaN\n",
      "3  07/01/2020  3241.860107  72.592609  152.082316  336.470001  5.930139   NaN\n",
      "4  08/01/2020  3238.590088  71.940000  151.710031  331.490000  5.970000   NaN\n"
     ]
    }
   ],
   "source": [
    "#After mannually changing dataset \n",
    "stock = pd.read_csv(\"/Users/ivan/Documents/Data Science Projects/Portfolio_Forecast/stocks.csv\")\n",
    "print(stock.head())"
   ]
  },
  {
   "cell_type": "code",
   "execution_count": 81,
   "metadata": {},
   "outputs": [],
   "source": [
    "stock = stock.round(2)\n",
    "stock.to_csv(\"/Users/ivan/Documents/Data Science Projects/Portfolio_Forecast/stocks.csv\", index=False)"
   ]
  },
  {
   "cell_type": "code",
   "execution_count": 82,
   "metadata": {},
   "outputs": [
    {
     "name": "stdout",
     "output_type": "stream",
     "text": [
      "         Date      SPX   AAPL    MSFT    NFLX  NVDA  RDDT\n",
      "0  02/01/2020  3244.67  71.72  151.57  326.10  5.94   NaN\n",
      "1  03/01/2020  3226.36  71.94  151.13  326.78  5.85   NaN\n",
      "2  06/01/2020  3217.55  71.13  149.94  323.12  5.78   NaN\n",
      "3  07/01/2020  3241.86  72.59  152.08  336.47  5.93   NaN\n",
      "4  08/01/2020  3238.59  71.94  151.71  331.49  5.97   NaN\n",
      "            Date      SPX    AAPL    MSFT    NFLX    NVDA    RDDT\n",
      "1253  24/12/2024  5984.63  255.21  433.78  915.00  140.00  169.00\n",
      "1254  26/12/2024  6024.97  257.91  438.20  928.40  139.70  177.80\n",
      "1255  27/12/2024  6006.17  257.55  433.73  916.01  138.55  175.53\n",
      "1256  30/12/2024  5920.67  251.95  425.21  894.51  134.83  167.38\n",
      "1257  31/12/2024  5919.74  252.16  425.25  901.80  138.03  166.00\n"
     ]
    }
   ],
   "source": [
    "print(stock.head())\n",
    "print(stock.tail())"
   ]
  },
  {
   "cell_type": "code",
   "execution_count": 83,
   "metadata": {},
   "outputs": [
    {
     "name": "stdout",
     "output_type": "stream",
     "text": [
      "Not yet\n"
     ]
    }
   ],
   "source": [
    "#Verifying whether our 'Date' column has been time set\n",
    "if isinstance(stock.index, pd.DatetimeIndex):\n",
    "    print(\"The index is a datetime index\")\n",
    "else:\n",
    "    print(\"Not yet\")"
   ]
  },
  {
   "cell_type": "code",
   "execution_count": 93,
   "metadata": {},
   "outputs": [
    {
     "name": "stdout",
     "output_type": "stream",
     "text": [
      "                SPX   AAPL    MSFT    NFLX  NVDA  RDDT\n",
      "Date                                                  \n",
      "2020-01-02  3244.67  71.72  151.57  326.10  5.94   NaN\n",
      "2020-01-03  3226.36  71.94  151.13  326.78  5.85   NaN\n",
      "2020-01-06  3217.55  71.13  149.94  323.12  5.78   NaN\n",
      "2020-01-07  3241.86  72.59  152.08  336.47  5.93   NaN\n",
      "2020-01-08  3238.59  71.94  151.71  331.49  5.97   NaN\n"
     ]
    }
   ],
   "source": [
    "stock = pd.read_csv(file_path)\n",
    "\n",
    "# Convert the 'Date' column to datetime format with day first\n",
    "stock['Date'] = pd.to_datetime(stock['Date'], dayfirst=True)\n",
    "stock.set_index('Date', inplace=True)\n",
    "\n",
    "print(stock.head())"
   ]
  },
  {
   "cell_type": "code",
   "execution_count": 100,
   "metadata": {},
   "outputs": [
    {
     "name": "stdout",
     "output_type": "stream",
     "text": [
      "SPX     float64\n",
      "AAPL    float64\n",
      "MSFT    float64\n",
      "NFLX    float64\n",
      "NVDA    float64\n",
      "RDDT    float64\n",
      "dtype: object\n"
     ]
    }
   ],
   "source": [
    "print(stock.dtypes)"
   ]
  },
  {
   "cell_type": "code",
   "execution_count": null,
   "metadata": {},
   "outputs": [],
   "source": []
  },
  {
   "cell_type": "code",
   "execution_count": null,
   "metadata": {},
   "outputs": [],
   "source": []
  },
  {
   "cell_type": "code",
   "execution_count": null,
   "metadata": {},
   "outputs": [],
   "source": []
  },
  {
   "cell_type": "code",
   "execution_count": null,
   "metadata": {},
   "outputs": [],
   "source": []
  },
  {
   "cell_type": "code",
   "execution_count": null,
   "metadata": {},
   "outputs": [],
   "source": []
  },
  {
   "cell_type": "code",
   "execution_count": null,
   "metadata": {},
   "outputs": [],
   "source": []
  },
  {
   "cell_type": "code",
   "execution_count": null,
   "metadata": {},
   "outputs": [],
   "source": []
  }
 ],
 "metadata": {
  "kernelspec": {
   "display_name": "Python 3",
   "language": "python",
   "name": "python3"
  },
  "language_info": {
   "codemirror_mode": {
    "name": "ipython",
    "version": 3
   },
   "file_extension": ".py",
   "mimetype": "text/x-python",
   "name": "python",
   "nbconvert_exporter": "python",
   "pygments_lexer": "ipython3",
   "version": "3.9.18"
  }
 },
 "nbformat": 4,
 "nbformat_minor": 2
}
