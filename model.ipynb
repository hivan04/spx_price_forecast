{
 "cells": [
  {
   "cell_type": "code",
   "execution_count": 37,
   "metadata": {},
   "outputs": [
    {
     "name": "stderr",
     "output_type": "stream",
     "text": [
      "[*********************100%***********************]  6 of 6 completed\n"
     ]
    }
   ],
   "source": [
    "import pandas as pd\n",
    "import yfinance as yf\n",
    "from statsmodels.tsa.arima.model import ARIMA\n",
    "\n",
    "# Define the tickers, start date, and end date\n",
    "tickers = [\"^GSPC\", \"AAPL\", \"NVDA\", \"MSFT\", \"NFLX\", \"RDDT\"]\n",
    "start_date = \"2020-01-01\"\n",
    "end_date = \"2025-01-01\"\n",
    "\n",
    "# Download the data\n",
    "data = yf.download(tickers, start=start_date, end=end_date)\n",
    "\n",
    "# Save the data to a CSV file\n",
    "data.to_csv(\"/Users/ivan/Documents/Data Science Projects/Portfolio_Forecast/stocks.csv\")\n",
    "\n",
    "# Read the data from the CSV file\n",
    "df = pd.read_csv(\"/Users/ivan/Documents/Data Science Projects/Portfolio_Forecast/stocks.csv\")"
   ]
  },
  {
   "cell_type": "code",
   "execution_count": 38,
   "metadata": {},
   "outputs": [
    {
     "name": "stdout",
     "output_type": "stream",
     "text": [
      "        Price              Close  ... Volume.4    Volume.5\n",
      "0      Ticker               AAPL  ...     RDDT       ^GSPC\n",
      "1        Date                NaN  ...      NaN         NaN\n",
      "2  2020-01-02  72.71609497070312  ...      NaN  3459930000\n",
      "3  2020-01-03  72.00910949707031  ...      NaN  3484700000\n",
      "4  2020-01-06  72.58291625976562  ...      NaN  3702460000\n",
      "\n",
      "[5 rows x 31 columns]\n"
     ]
    }
   ],
   "source": [
    "print(df.head())"
   ]
  },
  {
   "cell_type": "code",
   "execution_count": 44,
   "metadata": {},
   "outputs": [],
   "source": [
    "#Manually edited columns in Excel to remove, closing prices and volumes for each stock\n",
    "file = pd.read_csv('/Users/ivan/Documents/Data Science Projects/Portfolio_Forecast/stocks.csv')"
   ]
  },
  {
   "cell_type": "code",
   "execution_count": 45,
   "metadata": {},
   "outputs": [
    {
     "name": "stdout",
     "output_type": "stream",
     "text": [
      "          Ticker        ^GSPC        AAPL  ...        NFLX        NVDA        RDDT\n",
      "0           Date          NaN         NaN  ...         NaN         NaN         NaN\n",
      "1     02/01/2020  3244.669922   71.721042  ...  326.100006    5.943832         NaN\n",
      "2     03/01/2020  3226.360107   71.941321  ...  326.779999    5.852962         NaN\n",
      "3     06/01/2020  3217.550049   71.127873  ...  323.119995    5.783753         NaN\n",
      "4     07/01/2020  3241.860107   72.592609  ...  336.470001    5.930139         NaN\n",
      "...          ...          ...         ...  ...         ...         ...         ...\n",
      "1254  24/12/2024  5984.629883  255.209412  ...  915.000000  140.000000  169.000000\n",
      "1255  26/12/2024  6024.970215  257.906429  ...  928.400024  139.699997  177.800003\n",
      "1256  27/12/2024  6006.169922  257.546826  ...  916.010010  138.550003  175.529999\n",
      "1257  30/12/2024  5920.669922  251.952985  ...  894.510010  134.830002  167.375000\n",
      "1258  31/12/2024  5919.740234  252.162760  ...  901.799988  138.029999  166.000000\n",
      "\n",
      "[1259 rows x 7 columns]\n"
     ]
    }
   ],
   "source": [
    "print(file)"
   ]
  },
  {
   "cell_type": "code",
   "execution_count": 47,
   "metadata": {},
   "outputs": [
    {
     "name": "stdout",
     "output_type": "stream",
     "text": [
      "          Ticker        ^GSPC        AAPL  ...        NFLX        NVDA        RDDT\n",
      "1254  24/12/2024  5984.629883  255.209412  ...  915.000000  140.000000  169.000000\n",
      "1255  26/12/2024  6024.970215  257.906429  ...  928.400024  139.699997  177.800003\n",
      "1256  27/12/2024  6006.169922  257.546826  ...  916.010010  138.550003  175.529999\n",
      "1257  30/12/2024  5920.669922  251.952985  ...  894.510010  134.830002  167.375000\n",
      "1258  31/12/2024  5919.740234  252.162760  ...  901.799988  138.029999  166.000000\n",
      "\n",
      "[5 rows x 7 columns]\n"
     ]
    }
   ],
   "source": [
    "print(file.tail())"
   ]
  },
  {
   "cell_type": "code",
   "execution_count": 48,
   "metadata": {},
   "outputs": [
    {
     "name": "stdout",
     "output_type": "stream",
     "text": [
      "       Ticker        ^GSPC         AAPL  ...         NFLX         NVDA        RDDT\n",
      "count    1259  1258.000000  1258.000000  ...  1258.000000  1258.000000  197.000000\n",
      "unique   1259          NaN          NaN  ...          NaN          NaN         NaN\n",
      "top      Date          NaN          NaN  ...          NaN          NaN         NaN\n",
      "freq        1          NaN          NaN  ...          NaN          NaN         NaN\n",
      "mean      NaN  4258.915009   152.022500  ...   470.336359    38.450352   78.402863\n",
      "std       NaN   767.478053    42.016644  ...   155.601437    38.295294   38.251292\n",
      "min       NaN  2290.709961    55.350227  ...   163.960007     4.984596   38.799999\n",
      "25%       NaN  3817.265015   126.388694  ...   359.082489    13.605261   55.250000\n",
      "50%       NaN  4206.094971   150.580325  ...   480.739990    21.172298   62.875000\n",
      "75%       NaN  4602.849853   176.636641  ...   563.802490    45.750927   77.690002\n",
      "max       NaN  6089.029785   257.906429  ...   933.349976   149.339720  177.800003\n",
      "\n",
      "[11 rows x 7 columns]\n"
     ]
    }
   ],
   "source": [
    "print(file.describe(include='all'))"
   ]
  },
  {
   "cell_type": "code",
   "execution_count": 54,
   "metadata": {},
   "outputs": [],
   "source": [
    "file.rename(columns={'^GSPC': 'SPX'}, inplace=True)"
   ]
  },
  {
   "cell_type": "code",
   "execution_count": 55,
   "metadata": {},
   "outputs": [
    {
     "name": "stdout",
     "output_type": "stream",
     "text": [
      "       Ticker          SPX       AAPL        MSFT        NFLX      NVDA  RDDT\n",
      "0        Date          NaN        NaN         NaN         NaN       NaN   NaN\n",
      "1  02/01/2020  3244.669922  71.721042  151.566834  326.100006  5.943832   NaN\n",
      "2  03/01/2020  3226.360107  71.941321  151.127749  326.779999  5.852962   NaN\n",
      "3  06/01/2020  3217.550049  71.127873  149.944070  323.119995  5.783753   NaN\n",
      "4  07/01/2020  3241.860107  72.592609  152.082316  336.470001  5.930139   NaN\n"
     ]
    }
   ],
   "source": [
    "print(file.head())"
   ]
  },
  {
   "cell_type": "code",
   "execution_count": 56,
   "metadata": {},
   "outputs": [],
   "source": [
    "portfolio = file"
   ]
  },
  {
   "cell_type": "code",
   "execution_count": 58,
   "metadata": {},
   "outputs": [
    {
     "name": "stdout",
     "output_type": "stream",
     "text": [
      "       Ticker          SPX       AAPL        MSFT        NFLX      NVDA  RDDT\n",
      "0        Date          NaN        NaN         NaN         NaN       NaN   NaN\n",
      "1  02/01/2020  3244.669922  71.721042  151.566834  326.100006  5.943832   NaN\n",
      "2  03/01/2020  3226.360107  71.941321  151.127749  326.779999  5.852962   NaN\n",
      "3  06/01/2020  3217.550049  71.127873  149.944070  323.119995  5.783753   NaN\n",
      "4  07/01/2020  3241.860107  72.592609  152.082316  336.470001  5.930139   NaN\n"
     ]
    }
   ],
   "source": [
    "print(portfolio.head())"
   ]
  },
  {
   "cell_type": "code",
   "execution_count": null,
   "metadata": {},
   "outputs": [],
   "source": []
  },
  {
   "cell_type": "code",
   "execution_count": null,
   "metadata": {},
   "outputs": [],
   "source": []
  },
  {
   "cell_type": "code",
   "execution_count": null,
   "metadata": {},
   "outputs": [],
   "source": []
  },
  {
   "cell_type": "code",
   "execution_count": null,
   "metadata": {},
   "outputs": [],
   "source": []
  },
  {
   "cell_type": "code",
   "execution_count": null,
   "metadata": {},
   "outputs": [],
   "source": []
  },
  {
   "cell_type": "code",
   "execution_count": null,
   "metadata": {},
   "outputs": [],
   "source": []
  },
  {
   "cell_type": "code",
   "execution_count": null,
   "metadata": {},
   "outputs": [],
   "source": []
  }
 ],
 "metadata": {
  "kernelspec": {
   "display_name": "Python 3",
   "language": "python",
   "name": "python3"
  },
  "language_info": {
   "codemirror_mode": {
    "name": "ipython",
    "version": 3
   },
   "file_extension": ".py",
   "mimetype": "text/x-python",
   "name": "python",
   "nbconvert_exporter": "python",
   "pygments_lexer": "ipython3",
   "version": "3.9.18"
  }
 },
 "nbformat": 4,
 "nbformat_minor": 2
}
