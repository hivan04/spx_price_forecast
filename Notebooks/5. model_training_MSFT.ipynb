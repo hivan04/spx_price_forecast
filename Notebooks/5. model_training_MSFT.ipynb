{
 "cells": [
  {
   "cell_type": "markdown",
   "metadata": {},
   "source": [
    "<h1 style=\"text-align:center;\">Modelling for Microsoft</h1>"
   ]
  },
  {
   "cell_type": "markdown",
   "metadata": {},
   "source": [
    "### Model Training "
   ]
  },
  {
   "cell_type": "code",
   "execution_count": null,
   "metadata": {},
   "outputs": [
    {
     "name": "stdout",
     "output_type": "stream",
     "text": [
      "Time Series has not been set yet\n",
      "It has been done now!\n"
     ]
    }
   ],
   "source": [
    "import pandas as pd\n",
    "import yfinance as yf\n",
    "import matplotlib.pyplot as plt\n",
    "from statsmodels.tsa.arima.model import ARIMA\n",
    "from statsmodels.tsa.stattools import adfuller\n",
    "import statsmodels.graphics.tsaplots as sgt\n",
    "import numpy as np\n",
    "import time\n",
    "\n",
    "# Load the data\n",
    "df = pd.read_csv('/Users/ivan/Documents/Data Science Projects/Portfolio_Forecast/Datasets/dataframe_cleaned.csv')\n",
    "\n",
    "#Time-Series set the Data\n",
    "import time\n",
    "if isinstance(df.index, pd.DatetimeIndex):\n",
    "    print(\"Time Series has been set\")\n",
    "else:\n",
    "    print(\"Time Series has not been set yet\")\n",
    "    df['Date'] = pd.to_datetime(df['Date'], dayfirst=True)\n",
    "    df.set_index('Date', inplace=True)\n",
    "    time.sleep(3)\n",
    "    print(\"It has been done now!\")\n",
    "\n",
    "#Split the data into training and testing\n",
    "size = int(len(df)*0.7)\n",
    "df, df_test = df.iloc[:size], df.iloc[size:]\n",
    "\n",
    "#Normalised Prices\n",
    "df_norm = df/df.iloc[0]*100 #Create a new variable incase we want to visualise/test/forecast with the original data\n",
    "df_norm_test = df_test/df.iloc[0]*100\n",
    "\n",
    "#Log Returns \n",
    "df_log = np.log(df / df.shift(1))\n",
    "df_log_test = np.log(df_test / df_test.shift(1))"
   ]
  },
  {
   "cell_type": "markdown",
   "metadata": {},
   "source": [
    "### Testing for Stationarity"
   ]
  },
  {
   "cell_type": "code",
   "execution_count": null,
   "metadata": {},
   "outputs": [],
   "source": []
  },
  {
   "cell_type": "code",
   "execution_count": null,
   "metadata": {},
   "outputs": [],
   "source": []
  },
  {
   "cell_type": "code",
   "execution_count": null,
   "metadata": {},
   "outputs": [],
   "source": []
  },
  {
   "cell_type": "code",
   "execution_count": null,
   "metadata": {},
   "outputs": [],
   "source": []
  },
  {
   "cell_type": "code",
   "execution_count": null,
   "metadata": {},
   "outputs": [],
   "source": []
  },
  {
   "cell_type": "code",
   "execution_count": null,
   "metadata": {},
   "outputs": [],
   "source": []
  },
  {
   "cell_type": "code",
   "execution_count": null,
   "metadata": {},
   "outputs": [],
   "source": []
  }
 ],
 "metadata": {
  "kernelspec": {
   "display_name": "arima",
   "language": "python",
   "name": "python3"
  },
  "language_info": {
   "codemirror_mode": {
    "name": "ipython",
    "version": 3
   },
   "file_extension": ".py",
   "mimetype": "text/x-python",
   "name": "python",
   "nbconvert_exporter": "python",
   "pygments_lexer": "ipython3",
   "version": "3.9.18"
  }
 },
 "nbformat": 4,
 "nbformat_minor": 2
}
