{
 "cells": [
  {
   "cell_type": "markdown",
   "metadata": {},
   "source": [
    "### Data Pre-Processing Commands"
   ]
  },
  {
   "cell_type": "code",
   "execution_count": null,
   "metadata": {},
   "outputs": [],
   "source": [
    "import pandas as pandas\n",
    "import yfinance as yfinance\n",
    "import matplotlib.pyplot as plt\n",
    "from statsmodels.tsa.arima.model import ARIMA\n",
    "from statsmodels.tsa.stattools import adfuller\n",
    "import statsmodels.graphics.tsaplots as sgt\n",
    "import numpy as np\n",
    "import time\n",
    "\n",
    "import yfinance as yf\n",
    "import pandas as pd\n",
    "tickers = [\"^GSPC\", \"NDAQ\", \"AAPL\", \"NVDA\", \"MSFT\", \"NFLX\"]\n",
    "start_date = \"2020-01-01\"\n",
    "end_date = \"2025-03-01\"\n",
    "\n",
    "data = yf.download(tickers, start=start_date, end=end_date)\n",
    "data.to_csv('/Users/ivan/Documents/Data Science Projects/Portfolio_Forecast/dataframe.csv')\n",
    "stocks = pd.read_csv('/Users/ivan/Documents/Data Science Projects/Portfolio_Forecast/dataframe.csv')"
   ]
  }
 ],
 "metadata": {
  "language_info": {
   "name": "python"
  }
 },
 "nbformat": 4,
 "nbformat_minor": 2
}
